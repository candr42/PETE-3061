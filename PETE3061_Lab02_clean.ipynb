{
 "cells": [
  {
   "cell_type": "markdown",
   "metadata": {},
   "source": [
    "# Finding Roots"
   ]
  },
  {
   "cell_type": "markdown",
   "metadata": {},
   "source": [
    "#### Find the solutions of f (x) = 0, where the function f is given.\n",
    "\n",
    "In basic algebra, we learned to solve for the roots of the quadratic equation.\n",
    "\n",
    "$$f(x)=ax^2+bx+c=0$$\n",
    "\n",
    "It is also known as finding the \"zeros\" of the equation, or where the equation crosses the x-axis i.e. $f(x)=0$. The quadradic formula is as follows:\n",
    "\n",
    "$$x = \\frac{-b\\pm\\sqrt{b^2-4ac}}{2a}$$\n",
    "\n",
    "This is easy to solve by hand. However, what happens when when the equations become much more complicated like higher order algebraic equations or transcendental equations. Then numerical solutions are the only way."
   ]
  },
  {
   "cell_type": "markdown",
   "metadata": {},
   "source": [
    "## Simple solution\n",
    "Lets solve the simple quadratic by letting $a=2$, $b=-11$, and $c=5$.\n",
    "\n",
    "$$f(x)=2x^2-11+5=0$$\n",
    "\n",
    "We can manually solve this using the quadratic solution above.\n",
    "\n",
    "$$x = \\frac{-11\\pm\\sqrt{-11^2-2*5}}{2*2}=1/2\\space and \\space 5$$"
   ]
  },
  {
   "cell_type": "code",
   "execution_count": 1,
   "metadata": {},
   "outputs": [
    {
     "data": {
      "text/latex": [
       "$\\displaystyle a x^{2} + b x + c$"
      ],
      "text/plain": [
       "a*x**2 + b*x + c"
      ]
     },
     "execution_count": 1,
     "metadata": {},
     "output_type": "execute_result"
    }
   ],
   "source": [
    "import numpy as np\n",
    "import sympy as sp\n",
    "import matplotlib.pyplot as plt\n",
    "a,b,c,x = sp.symbols('a b c x')\n",
    "expr = a*x**2+b*x+c\n",
    "expr"
   ]
  },
  {
   "cell_type": "code",
   "execution_count": 2,
   "metadata": {},
   "outputs": [],
   "source": [
    "x1, x2 = sp.solve(expr,x)"
   ]
  },
  {
   "cell_type": "code",
   "execution_count": 3,
   "metadata": {},
   "outputs": [
    {
     "data": {
      "text/latex": [
       "$\\displaystyle \\frac{- b + \\sqrt{- 4 a c + b^{2}}}{2 a}$"
      ],
      "text/plain": [
       "(-b + sqrt(-4*a*c + b**2))/(2*a)"
      ]
     },
     "execution_count": 3,
     "metadata": {},
     "output_type": "execute_result"
    }
   ],
   "source": [
    "x1"
   ]
  },
  {
   "cell_type": "code",
   "execution_count": 4,
   "metadata": {},
   "outputs": [
    {
     "data": {
      "text/latex": [
       "$\\displaystyle - \\frac{b + \\sqrt{- 4 a c + b^{2}}}{2 a}$"
      ],
      "text/plain": [
       "-(b + sqrt(-4*a*c + b**2))/(2*a)"
      ]
     },
     "execution_count": 4,
     "metadata": {},
     "output_type": "execute_result"
    }
   ],
   "source": [
    "x2"
   ]
  },
  {
   "cell_type": "code",
   "execution_count": 5,
   "metadata": {},
   "outputs": [
    {
     "data": {
      "text/latex": [
       "$\\displaystyle 2 x^{2} - 11 x + 5$"
      ],
      "text/plain": [
       "2*x**2 - 11*x + 5"
      ]
     },
     "execution_count": 5,
     "metadata": {},
     "output_type": "execute_result"
    }
   ],
   "source": [
    "ac = 2\n",
    "bc = -11\n",
    "cc = 5\n",
    "f_x = expr.subs([(a,ac),(b,bc),(c,cc)])\n",
    "f_x"
   ]
  },
  {
   "cell_type": "markdown",
   "metadata": {},
   "source": [
    "## Plot to find potential zero ranges (bracketing methods)"
   ]
  },
  {
   "cell_type": "code",
   "execution_count": 6,
   "metadata": {},
   "outputs": [
    {
     "data": {
      "image/png": "[encoded data removed]",
      "text/plain": [
       "<Figure size 432x288 with 1 Axes>"
      ]
     },
     "metadata": {
      "needs_background": "light"
     },
     "output_type": "display_data"
    },
    {
     "data": {
      "text/plain": [
       "<sympy.plotting.plot.Plot at 0x2609d6fd128>"
      ]
     },
     "execution_count": 6,
     "metadata": {},
     "output_type": "execute_result"
    }
   ],
   "source": [
    "sp.plot(f_x,(x,-5,10))"
   ]
  },
  {
   "cell_type": "code",
   "execution_count": 7,
   "metadata": {},
   "outputs": [
    {
     "data": {
      "text/latex": [
       "$\\displaystyle 5$"
      ],
      "text/plain": [
       "5"
      ]
     },
     "execution_count": 7,
     "metadata": {},
     "output_type": "execute_result"
    }
   ],
   "source": [
    "x1.subs([(a,ac),(b,bc),(c,cc)])"
   ]
  },
  {
   "cell_type": "code",
   "execution_count": 8,
   "metadata": {},
   "outputs": [
    {
     "data": {
      "text/latex": [
       "$\\displaystyle \\frac{1}{2}$"
      ],
      "text/plain": [
       "1/2"
      ]
     },
     "execution_count": 8,
     "metadata": {},
     "output_type": "execute_result"
    }
   ],
   "source": [
    "x2.subs(([(a,ac),(b,bc),(c,cc)]))"
   ]
  },
  {
   "cell_type": "markdown",
   "metadata": {},
   "source": [
    "## Numerical methods"
   ]
  },
  {
   "cell_type": "markdown",
   "metadata": {},
   "source": [
    "### Definition of function"
   ]
  },
  {
   "cell_type": "code",
   "execution_count": 9,
   "metadata": {},
   "outputs": [],
   "source": [
    "def f(x): return 2*x**2-11*x+5"
   ]
  },
  {
   "cell_type": "markdown",
   "metadata": {},
   "source": [
    "### Implementation of bracketing method from book"
   ]
  },
  {
   "cell_type": "code",
   "execution_count": 10,
   "metadata": {},
   "outputs": [],
   "source": [
    "import math\n",
    "import numpy as np\n",
    "\n",
    "def bisection(f,x1,x2,switch=1,tol=1.0e-9):\n",
    "    f1 = f(x1)\n",
    "    if f1 == 0.0: return x1\n",
    "    f2 = f(x2)\n",
    "    if f2 == 0.0: return x2\n",
    "    if np.sign(f1)== np.sign(f2):\n",
    "        print('Root is not bracketed')\n",
    "    n = int(math.ceil(math.log(abs(x2-x1)/tol)/math.log(2.0)))\n",
    "    \n",
    "    for i in range(n):\n",
    "        x3 = 0.5*(x1+x2); f3 = f(x3)\n",
    "        if (switch == 1) and (abs(f3) > abs(f1)) and (abs(f3) > abs(f2)):\n",
    "            return None\n",
    "        if f3 == 0.0: return x3\n",
    "        if np.sign(f2)!= np.sign(f3): x1 = x3; f1 = f3\n",
    "        else: x2 =x3; f2 = f3\n",
    "    return (x1 +x2)/2.0"
   ]
  },
  {
   "cell_type": "markdown",
   "metadata": {},
   "source": [
    "### Run method on function"
   ]
  },
  {
   "cell_type": "code",
   "execution_count": 11,
   "metadata": {},
   "outputs": [
    {
     "data": {
      "text/plain": [
       "0.5"
      ]
     },
     "execution_count": 11,
     "metadata": {},
     "output_type": "execute_result"
    }
   ],
   "source": [
    "bisection(f,0,2,switch=1,tol=1.0e-9)"
   ]
  },
  {
   "cell_type": "markdown",
   "metadata": {},
   "source": [
    "### Use high grade method from scipy"
   ]
  },
  {
   "cell_type": "code",
   "execution_count": 12,
   "metadata": {},
   "outputs": [
    {
     "data": {
      "text/plain": [
       "0.5"
      ]
     },
     "execution_count": 12,
     "metadata": {},
     "output_type": "execute_result"
    }
   ],
   "source": [
    "from scipy.optimize import bisect\n",
    "bisect(f,0,2,xtol = 1.0e-9)"
   ]
  },
  {
   "cell_type": "markdown",
   "metadata": {},
   "source": [
    "### Solving for other functions"
   ]
  },
  {
   "cell_type": "code",
   "execution_count": 13,
   "metadata": {},
   "outputs": [],
   "source": [
    "def f(x): return x**3-10.0*x**2+5"
   ]
  },
  {
   "cell_type": "code",
   "execution_count": 14,
   "metadata": {},
   "outputs": [
    {
     "data": {
      "text/plain": [
       "<matplotlib.collections.LineCollection at 0x2609f0fd6a0>"
      ]
     },
     "execution_count": 14,
     "metadata": {},
     "output_type": "execute_result"
    },
    {
     "data": {
      "image/png": "[encoded data removed]",
      "text/plain": [
       "<Figure size 432x288 with 1 Axes>"
      ]
     },
     "metadata": {
      "needs_background": "light"
     },
     "output_type": "display_data"
    }
   ],
   "source": [
    "x = np.arange(-3,10,0.1)\n",
    "plt.plot(x,f(x))\n",
    "plt.hlines(0,-3,10)"
   ]
  },
  {
   "cell_type": "code",
   "execution_count": 15,
   "metadata": {},
   "outputs": [
    {
     "data": {
      "text/plain": [
       "9.949491058068816"
      ]
     },
     "execution_count": 15,
     "metadata": {},
     "output_type": "execute_result"
    }
   ],
   "source": [
    "from scipy.optimize import bisect\n",
    "bisect(f,2,15,xtol = 1.0e-9)"
   ]
  },
  {
   "cell_type": "markdown",
   "metadata": {},
   "source": [
    "## Real Problems"
   ]
  },
  {
   "cell_type": "markdown",
   "metadata": {},
   "source": [
    "### Example of spherical tank (using Newton Raphson)"
   ]
  },
  {
   "cell_type": "markdown",
   "metadata": {},
   "source": [
    "A spherical tank of radius $5ft$ is constructed and the level of water in it, or height $h$ needs to be measured when the tank reaches $20ft^3$ of volume. The equation for the volume of liquid is as follows:\n",
    "\n",
    "$$V = \\pi h^2 \\frac{[3r-h]}{3}$$\n",
    "\n",
    "where $V$ is volume, $h$ is level height of fluid, and $r$ is the radius of the tank.\n",
    "\n",
    "Lets use the Newton Raphson open method to solve.\n",
    "\n",
    "$$x_{i+1}=x_i-\\frac{f(x_i)}{f'(x_i)}$$\n",
    "\n",
    "NR Error calculation\n",
    "\n",
    "$$E_a=\\left| \\frac{(x_{i+1}-x_i)}{x_{i+1}} \\right| \\times100$$"
   ]
  },
  {
   "cell_type": "markdown",
   "metadata": {},
   "source": [
    "### Code"
   ]
  },
  {
   "cell_type": "code",
   "execution_count": 16,
   "metadata": {},
   "outputs": [],
   "source": [
    "V = 20\n",
    "r = 5\n",
    "\n",
    "def tank(h): return np.pi*h**2*(3*r-h)/3 - V\n",
    "\n",
    "def d_tank(h): return np.pi*(2*h*r-h**2)"
   ]
  },
  {
   "cell_type": "markdown",
   "metadata": {},
   "source": [
    "### Plotting"
   ]
  },
  {
   "cell_type": "code",
   "execution_count": 17,
   "metadata": {},
   "outputs": [
    {
     "data": {
      "text/plain": [
       "<matplotlib.collections.LineCollection at 0x2609f14b588>"
      ]
     },
     "execution_count": 17,
     "metadata": {},
     "output_type": "execute_result"
    },
    {
     "data": {
      "image/png": "[encoded data removed]",
      "text/plain": [
       "<Figure size 432x288 with 1 Axes>"
      ]
     },
     "metadata": {
      "needs_background": "light"
     },
     "output_type": "display_data"
    }
   ],
   "source": [
    "x = np.arange(0,2,0.1)\n",
    "plt.plot(x,tank(x))\n",
    "plt.hlines(0,0,2)\n",
    "#plt.vlines(0,-20,100)"
   ]
  },
  {
   "cell_type": "markdown",
   "metadata": {},
   "source": [
    "### Loop"
   ]
  },
  {
   "cell_type": "code",
   "execution_count": 18,
   "metadata": {},
   "outputs": [
    {
     "name": "stdout",
     "output_type": "stream",
     "text": [
      "input guess 10\n",
      "1.3145540243964051 52.14285323254983\n",
      "1.1817001366484903 11.242605770082406\n",
      "1.1753828024658846 0.5374703602394315\n"
     ]
    }
   ],
   "source": [
    "x1 = input('input guess ')\n",
    "Ea = 100\n",
    "xi = 2\n",
    "n = 0\n",
    "\n",
    "while Ea > 1:\n",
    "    xnew = xi - tank(xi)/d_tank(xi)\n",
    "    Ea = abs((xnew - xi)/xnew)*100\n",
    "    n+=1\n",
    "    print(xnew,Ea)\n",
    "    xi = xnew\n"
   ]
  },
  {
   "cell_type": "markdown",
   "metadata": {},
   "source": [
    "### Comparison with bisection method from earlier"
   ]
  },
  {
   "cell_type": "code",
   "execution_count": 19,
   "metadata": {},
   "outputs": [
    {
     "data": {
      "text/plain": [
       "1.1753681027330458"
      ]
     },
     "execution_count": 19,
     "metadata": {},
     "output_type": "execute_result"
    }
   ],
   "source": [
    "bisection(tank,0,2,switch=1,tol=1.0e-9)"
   ]
  },
  {
   "cell_type": "markdown",
   "metadata": {},
   "source": [
    "### 1 - Vogel's inflow performance relationship\n",
    "Vogel was the first to present an easy-to-use method for predicting the performance of oil wells. His empirical inflow performance relationship (IPR) is based on computer simulation results and is given by\n",
    "\n",
    "$$\\frac{q_o}{q_{o,max}}=1-0.2\\left(\\frac{p_{wf}}{\\bar p_R}\\right)-0.8\\left(\\frac{p_{wf}}{\\bar p_R}\\right)^2$$\n",
    "\n",
    "$q_o$ is the oil flow rate in _STB/D_\n",
    "\n",
    "$q_{o,max}$ is the maximum oil flow rate in _STB/D_\n",
    "\n",
    "$p_{wf}$ is bottomhole pressure in _psia_\n",
    "\n",
    "$\\bar p_R$ is average reservoir pressure in _psia_\n",
    "\n"
   ]
  },
  {
   "cell_type": "markdown",
   "metadata": {},
   "source": [
    "### Application of Vogel's (using scipy methods)\n",
    "A well is producing from a reservoir having an average reservoir pressure of 2,300 _psig_. A stabilized production test on the well resulted in a producing rate of 385 _STB/day_ when the flowing bottom hole pressure was 1,631 _psig_.\n",
    "\n",
    "#### First find the maximum production rate $q_{o,max}$. "
   ]
  },
  {
   "cell_type": "code",
   "execution_count": 20,
   "metadata": {},
   "outputs": [
    {
     "data": {
      "text/plain": [
       "844.5183867117553"
      ]
     },
     "execution_count": 20,
     "metadata": {},
     "output_type": "execute_result"
    }
   ],
   "source": [
    "import numpy as np\n",
    "pwf=1631\n",
    "pr=2300\n",
    "qo=385\n",
    "qomax= (qo)/(1-.2*(pwf/pr)-.8*(pwf/pr)**2)\n",
    "qomax"
   ]
  },
  {
   "cell_type": "code",
   "execution_count": null,
   "metadata": {},
   "outputs": [],
   "source": []
  },
  {
   "cell_type": "markdown",
   "metadata": {},
   "source": [
    "#### Now use root finding to find a specific producing bottom hole pressure\n",
    "If we desire an inflow rate of 650 _STB/D_ what is the required bottom hole pressure."
   ]
  },
  {
   "cell_type": "markdown",
   "metadata": {},
   "source": [
    "#### Plot"
   ]
  },
  {
   "cell_type": "code",
   "execution_count": 32,
   "metadata": {},
   "outputs": [
    {
     "data": {
      "text/plain": [
       "<matplotlib.collections.LineCollection at 0x2609f3d35f8>"
      ]
     },
     "execution_count": 32,
     "metadata": {},
     "output_type": "execute_result"
    },
    {
     "data": {
      "image/png": "[encoded data removed]",
      "text/plain": [
       "<Figure size 432x288 with 1 Axes>"
      ]
     },
     "metadata": {
      "needs_background": "light"
     },
     "output_type": "display_data"
    }
   ],
   "source": [
    "def f(x): return (1-.2*(x/2300.)-.8*(x/2300.)**2)-(650/844.52)\n",
    "x = np.arange(0,1000,.01)\n",
    "plt.plot(x,f(x))\n",
    "plt.hlines(0,0,1000)"
   ]
  },
  {
   "cell_type": "markdown",
   "metadata": {},
   "source": [
    "### Define function"
   ]
  },
  {
   "cell_type": "code",
   "execution_count": 33,
   "metadata": {},
   "outputs": [],
   "source": [
    "def f(x): return (1-.2*(x/2300.)-.8*(x/2300.)**2)-(650/844.52)"
   ]
  },
  {
   "cell_type": "markdown",
   "metadata": {},
   "source": [
    "### Solve"
   ]
  },
  {
   "cell_type": "markdown",
   "metadata": {},
   "source": [
    "#### Bracketed Method (scipy.bisect)"
   ]
  },
  {
   "cell_type": "code",
   "execution_count": 36,
   "metadata": {},
   "outputs": [
    {
     "data": {
      "text/plain": [
       "979.6727396547794"
      ]
     },
     "execution_count": 36,
     "metadata": {},
     "output_type": "execute_result"
    }
   ],
   "source": [
    "import scipy\n",
    "from scipy.optimize import bisect\n",
    "x = bisect(f,800,1000,xtol=1e-6)\n",
    "x"
   ]
  },
  {
   "cell_type": "markdown",
   "metadata": {},
   "source": [
    "#### Open method (scipy.optimize.fsolve)"
   ]
  },
  {
   "cell_type": "code",
   "execution_count": 42,
   "metadata": {},
   "outputs": [
    {
     "data": {
      "text/plain": [
       "array([979.67273944])"
      ]
     },
     "execution_count": 42,
     "metadata": {},
     "output_type": "execute_result"
    }
   ],
   "source": [
    "x = scipy.optimize.fsolve(f,1000)\n",
    "x"
   ]
  },
  {
   "cell_type": "markdown",
   "metadata": {},
   "source": [
    "### 2 - Pipe Friction (using scipy methods)"
   ]
  },
  {
   "cell_type": "markdown",
   "metadata": {},
   "source": [
    "The Colebrook equation is a very common way to calculate friction factor (a dimensionless number that characterizes the pipe's resistance to flow) for pipe flow when the flow is turbulent i.e. $Re>4000$.\n",
    "\n",
    "$$0 = \\frac{1}{\\sqrt{f}}+2.0log\\left (\\frac{\\epsilon}{3.7D}+\\frac{2.51}{Re\\sqrt{f}} \\right) $$\n",
    "\n",
    "where $\\epsilon$ = the roughness in _m_, $D$ = diameter in _m_, and $Re$ = the _Reynolds number_\n",
    "\n",
    "$$Re=\\frac{\\rho V D}{\\mu}$$\n",
    "\n",
    "where $\\rho$ = the fluid's density in $kg/m^3$, $V$ is the fluid velocity in _m/s_, and $\\mu$ = dynamic viscosity in $N \\cdot s/m^2$"
   ]
  },
  {
   "cell_type": "markdown",
   "metadata": {},
   "source": [
    "#### Solve for the friction factor for a specific pipe flow "
   ]
  },
  {
   "cell_type": "markdown",
   "metadata": {},
   "source": [
    "Assume for the case of $\\rho=1.23kg/m^3$, $\\mu=1.79\\times10^{-5}N\\cdot s/m^2$, $D=0.005m$, $V=40m/s$, and $\\epsilon=0.0015mm$."
   ]
  },
  {
   "cell_type": "markdown",
   "metadata": {},
   "source": [
    "#### First calculate Reynolds Number"
   ]
  },
  {
   "cell_type": "code",
   "execution_count": 43,
   "metadata": {},
   "outputs": [
    {
     "data": {
      "text/plain": [
       "13743.016759776536"
      ]
     },
     "execution_count": 43,
     "metadata": {},
     "output_type": "execute_result"
    }
   ],
   "source": [
    "u = 1.79e-5\n",
    "p = 1.23\n",
    "D = .005\n",
    "V = 40.\n",
    "e = 1.5e-6\n",
    "Re = (p*D*V)/u\n",
    "Re"
   ]
  },
  {
   "cell_type": "markdown",
   "metadata": {},
   "source": [
    "### Define function"
   ]
  },
  {
   "cell_type": "code",
   "execution_count": 45,
   "metadata": {},
   "outputs": [
    {
     "data": {
      "text/plain": [
       "0.23031462557076754"
      ]
     },
     "execution_count": 45,
     "metadata": {},
     "output_type": "execute_result"
    }
   ],
   "source": [
    "def h(x): return (1/np.sqrt(x))+2.0*np.log10((e/(3.7*D))+(2.51/(Re*np.sqrt(x))))\n",
    "f(.2)"
   ]
  },
  {
   "cell_type": "markdown",
   "metadata": {},
   "source": [
    "### Plot to see where root value may lie"
   ]
  },
  {
   "cell_type": "code",
   "execution_count": 49,
   "metadata": {},
   "outputs": [
    {
     "name": "stderr",
     "output_type": "stream",
     "text": [
      "C:\\ProgramData\\Anaconda3\\lib\\site-packages\\ipykernel_launcher.py:1: RuntimeWarning: divide by zero encountered in true_divide\n",
      "  \"\"\"Entry point for launching an IPython kernel.\n"
     ]
    },
    {
     "data": {
      "text/plain": [
       "<matplotlib.collections.LineCollection at 0x2609f3faa90>"
      ]
     },
     "execution_count": 49,
     "metadata": {},
     "output_type": "execute_result"
    },
    {
     "data": {
      "image/png": "[encoded data removed]",
      "text/plain": [
       "<Figure size 432x288 with 1 Axes>"
      ]
     },
     "metadata": {
      "needs_background": "light"
     },
     "output_type": "display_data"
    }
   ],
   "source": [
    "x = np.arange(0,.1,.000001)\n",
    "plt.plot(x,h(x))\n",
    "plt.hlines(0,0,.1)"
   ]
  },
  {
   "cell_type": "markdown",
   "metadata": {},
   "source": [
    "#### Bracketed Method"
   ]
  },
  {
   "cell_type": "code",
   "execution_count": 48,
   "metadata": {},
   "outputs": [
    {
     "name": "stderr",
     "output_type": "stream",
     "text": [
      "C:\\ProgramData\\Anaconda3\\lib\\site-packages\\ipykernel_launcher.py:1: RuntimeWarning: divide by zero encountered in double_scalars\n",
      "  \"\"\"Entry point for launching an IPython kernel.\n"
     ]
    },
    {
     "data": {
      "text/plain": [
       "0.028968048095703126"
      ]
     },
     "execution_count": 48,
     "metadata": {},
     "output_type": "execute_result"
    }
   ],
   "source": [
    "from scipy.optimize import bisect\n",
    "x = bisect(h,0,.100,xtol=1e-6)\n",
    "x"
   ]
  },
  {
   "cell_type": "markdown",
   "metadata": {},
   "source": [
    "#### Open method"
   ]
  },
  {
   "cell_type": "code",
   "execution_count": 47,
   "metadata": {},
   "outputs": [
    {
     "data": {
      "text/plain": [
       "array([0.02896781])"
      ]
     },
     "execution_count": 47,
     "metadata": {},
     "output_type": "execute_result"
    }
   ],
   "source": [
    "scipy.optimize.fsolve(h,.01)"
   ]
  },
  {
   "cell_type": "code",
   "execution_count": null,
   "metadata": {},
   "outputs": [],
   "source": []
  }
 ],
 "metadata": {
  "kernelspec": {
   "display_name": "Python 3",
   "language": "python",
   "name": "python3"
  },
  "language_info": {
   "codemirror_mode": {
    "name": "ipython",
    "version": 3
   },
   "file_extension": ".py",
   "mimetype": "text/x-python",
   "name": "python",
   "nbconvert_exporter": "python",
   "pygments_lexer": "ipython3",
   "version": "3.7.3"
  }
 },
 "nbformat": 4,
 "nbformat_minor": 4
}
